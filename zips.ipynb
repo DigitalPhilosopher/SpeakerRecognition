{
 "cells": [
  {
   "cell_type": "code",
   "execution_count": null,
   "metadata": {},
   "outputs": [],
   "source": [
    "import os\n",
    "import pandas as pd\n",
    "import zipfile\n",
    "from tqdm import tqdm\n",
    "\n",
    "def init_comparison_dataframe():\n",
    "    return pd.DataFrame(columns=['Name'])\n",
    "\n",
    "def add_comparison_column(df, new_folder_or_zip, column_name='folder'):\n",
    "    \"\"\"\n",
    "    Adds a column to the DataFrame indicating whether items at a specified level exist\n",
    "    in the given folder or zip file, without using the 'append' method.\n",
    "    \"\"\"\n",
    "    # Determine if the path is a zip file or a folder\n",
    "    is_zip = zipfile.is_zipfile(new_folder_or_zip)\n",
    "    \n",
    "    # Initialize a set to hold the item names\n",
    "    items = set()\n",
    "\n",
    "    if is_zip:\n",
    "        with zipfile.ZipFile(new_folder_or_zip, 'r') as zip_ref:\n",
    "            for info in tqdm(zip_ref.infolist(), desc=\"Processing items in zip\"):\n",
    "                parts = info.filename.split('/')\n",
    "                if parts[-1] == '':\n",
    "                    continue\n",
    "                items.add(os.sep.join(parts))\n",
    "    else:\n",
    "        for root, _, files in tqdm(os.walk(new_folder_or_zip), desc=\"Processing items in folder\"):\n",
    "            # Add files at the current depth\n",
    "            for file in files:\n",
    "                file_path = os.path.join(root, file)\n",
    "                rel_file_path = os.path.relpath(file_path, new_folder_or_zip)\n",
    "                items.add(rel_file_path)\n",
    "\n",
    "    # Ensure all items in DataFrame have the new column initialized to 'no'\n",
    "    if column_name not in df.columns:\n",
    "        df[column_name] = 'no'\n",
    "    \n",
    "    # Convert the DataFrame column to a set for faster lookup\n",
    "    df_items_set = set(df['Name'])\n",
    "\n",
    "    # Find the difference between the items and what's already in the DataFrame\n",
    "    items_to_add = items - df_items_set\n",
    "\n",
    "    # For the items already in the DataFrame, set the column to 'yes'\n",
    "    df.loc[df['Name'].isin(items), column_name] = 'yes'\n",
    "\n",
    "    # Create a new DataFrame for the items that need to be added\n",
    "    new_rows = pd.DataFrame({'Name': list(items_to_add)})\n",
    "    new_rows[column_name] = 'yes'\n",
    "\n",
    "    # For columns other than 'Name' and the new column, set them to 'no'\n",
    "    for col in df.columns:\n",
    "        if col not in ['Name', column_name]:\n",
    "            new_rows[col] = 'no'\n",
    "\n",
    "    # Concatenate the new rows with the original DataFrame\n",
    "    df = pd.concat([df, new_rows], ignore_index=True)\n",
    "    \n",
    "    return df"
   ]
  },
  {
   "cell_type": "code",
   "execution_count": null,
   "metadata": {},
   "outputs": [],
   "source": [
    "df = init_comparison_dataframe()\n",
    "\n",
    "zip_path = 'C:\\\\Users\\\\Patrick\\\\Desktop\\\\vox2_aac_2.zip'\n",
    "folder_path = 'C:\\\\Users\\\\Patrick\\\\Desktop\\\\vox2_aac_2'\n",
    "zip2_path = 'C:\\\\Users\\\\Patrick\\\\Desktop\\\\vox2_aac_1.zip'\n",
    "\n",
    "df = add_comparison_column(df, zip_path, 'zip')\n",
    "df = add_comparison_column(df, folder_path, 'folder')\n",
    "#df = add_comparison_column(df, zip2_path, 'zip2')\n"
   ]
  },
  {
   "cell_type": "code",
   "execution_count": null,
   "metadata": {},
   "outputs": [],
   "source": [
    "\n",
    "filtered_df = df[(df['folder'] == 'no')]\n",
    "filtered_df"
   ]
  },
  {
   "cell_type": "code",
   "execution_count": null,
   "metadata": {},
   "outputs": [],
   "source": [
    "df = init_comparison_dataframe()\n",
    "\n",
    "zip_path = 'C:\\\\Users\\\\Patrick\\\\Desktop\\\\vox1_dev_wav.zip'  # Path to your zip file\n",
    "folder_path = 'C:\\\\Users\\\\Patrick\\\\Desktop\\\\vox1_dev_wav'  # Path to your folder\n",
    "\n",
    "df = add_comparison_column(df, zip_path, 'zip')\n",
    "df = add_comparison_column(df, folder_path, 'folder')\n",
    "\n",
    "filtered_df = df[(df['zip'] == 'no') | (df['folder'] == 'no')]\n",
    "filtered_df\n"
   ]
  }
 ],
 "metadata": {
  "kernelspec": {
   "display_name": ".venv",
   "language": "python",
   "name": "python3"
  },
  "language_info": {
   "codemirror_mode": {
    "name": "ipython",
    "version": 3
   },
   "file_extension": ".py",
   "mimetype": "text/x-python",
   "name": "python",
   "nbconvert_exporter": "python",
   "pygments_lexer": "ipython3",
   "version": "3.12.0"
  }
 },
 "nbformat": 4,
 "nbformat_minor": 2
}
