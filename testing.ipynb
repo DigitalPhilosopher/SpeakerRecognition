{
 "cells": [
  {
   "cell_type": "code",
   "execution_count": null,
   "metadata": {},
   "outputs": [],
   "source": [
    "from torch.utils.data import DataLoader\n",
    "from dataset import AudioDataset\n",
    "from config import TRAIN_DATASET, TEST_DATASET, BATCH_SICE\n",
    "from neural_net import get_model, train_model"
   ]
  },
  {
   "cell_type": "code",
   "execution_count": null,
   "metadata": {},
   "outputs": [],
   "source": [
    "train_audio_dataset = AudioDataset(TRAIN_DATASET)\n",
    "train_loader = DataLoader(train_audio_dataset, batch_size=BATCH_SICE, shuffle=True)"
   ]
  },
  {
   "cell_type": "code",
   "execution_count": null,
   "metadata": {},
   "outputs": [],
   "source": [
    "model = get_model()\n",
    "train_model(model, train_loader, len(set(train_audio_dataset.dataset['speaker'])), 512)"
   ]
  },
  {
   "cell_type": "code",
   "execution_count": null,
   "metadata": {},
   "outputs": [],
   "source": [
    "test_audio_dataset = AudioDataset(TEST_DATASET)\n",
    "test_loader = DataLoader(test_audio_dataset, batch_size=BATCH_SICE, shuffle=True)"
   ]
  },
  {
   "cell_type": "code",
   "execution_count": null,
   "metadata": {},
   "outputs": [],
   "source": [
    "from neural_net import device\n",
    "from sklearn.metrics import accuracy_score\n",
    "\n",
    "model.eval()\n",
    "\n",
    "predictions = []\n",
    "true_labels = []\n",
    "\n",
    "for features, labels in test_loader:\n",
    "    features = features.to(device)\n",
    "    outputs = model(features)\n",
    "    predicted = outputs.argmax(dim=1)  # Get the index of the max log-probability\n",
    "    predictions.extend(predicted.cpu().numpy())\n",
    "    true_labels.extend(labels.cpu().numpy())\n",
    "\n",
    "accuracy = accuracy_score(true_labels, predictions)\n",
    "print(f'Accuracy: {accuracy}')\n"
   ]
  }
 ],
 "metadata": {
  "kernelspec": {
   "display_name": "Python 3",
   "language": "python",
   "name": "python3"
  },
  "language_info": {
   "codemirror_mode": {
    "name": "ipython",
    "version": 3
   },
   "file_extension": ".py",
   "mimetype": "text/x-python",
   "name": "python",
   "nbconvert_exporter": "python",
   "pygments_lexer": "ipython3",
   "version": "3.11.6"
  }
 },
 "nbformat": 4,
 "nbformat_minor": 2
}
