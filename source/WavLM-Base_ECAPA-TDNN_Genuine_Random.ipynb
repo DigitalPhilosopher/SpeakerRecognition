{
 "cells": [
  {
   "cell_type": "code",
   "execution_count": null,
   "metadata": {},
   "outputs": [],
   "source": [
    "MODEL = \"WavLM-Base-frozen_ECAPA-TDNN_Genuine_Random\"\n",
    "\n",
    "LEARNING_RATE = 0.001\n",
    "MARGIN = 1\n",
    "NORM = 2\n",
    "\n",
    "BATCH_SIZE = 8\n",
    "EPOCHS = 4\n",
    "VALIDATION_RATE = 1"
   ]
  },
  {
   "cell_type": "code",
   "execution_count": null,
   "metadata": {},
   "outputs": [],
   "source": [
    "# Handle warnings\n",
    "import warnings\n",
    "warnings.filterwarnings(\"ignore\")\n",
    "\n",
    "# Logging to log file\n",
    "import logging\n",
    "logging.basicConfig(filename=f'../logs/{MODEL}.log',\n",
    "                    level=logging.INFO,\n",
    "                    format='%(asctime)s - %(message)s')\n",
    "logger = logging.getLogger()\n",
    "\n",
    "# MLFlow configuration\n",
    "import mlflow\n",
    "mlflow.set_tracking_uri(\"../mlruns\")\n",
    "logging.getLogger('mlflow.utils.requirements_utils').setLevel(logging.ERROR)\n",
    "\n",
    "# Get device\n",
    "from utils import get_device, load_genuine_dataset, ModelTrainer\n",
    "device = get_device(logger)\n",
    "\n",
    "# Imports\n",
    "import torch.optim as optim\n",
    "from torch.nn import TripletMarginLoss\n",
    "from torch.utils.data import DataLoader\n",
    "from dataloader import ValidationDataset, RandomTripletLossDataset, collate_triplet_wav_fn, collate_valid_fn\n",
    "from models import WavLM_Base_frozen_ECAPA_TDNN"
   ]
  },
  {
   "cell_type": "code",
   "execution_count": null,
   "metadata": {},
   "outputs": [],
   "source": [
    "train_labels, dev_labels, test_labels = load_genuine_dataset()\n",
    "\n",
    "audio_dataset = RandomTripletLossDataset(train_labels, frontend=lambda x: x, logger=logger)\n",
    "audio_dataloader = DataLoader(audio_dataset, batch_size=BATCH_SIZE, shuffle=True, collate_fn=collate_triplet_wav_fn)\n",
    "\n",
    "validation_dataset = ValidationDataset(dev_labels, frontend=lambda x: x, logger=logger)\n",
    "validation_dataloader = DataLoader(validation_dataset, batch_size=BATCH_SIZE, shuffle=True, collate_fn=collate_valid_fn)"
   ]
  },
  {
   "cell_type": "code",
   "execution_count": null,
   "metadata": {},
   "outputs": [],
   "source": [
    "model = WavLM_Base_frozen_ECAPA_TDNN(device=device)\n",
    "model.to(device)\n",
    "\n",
    "# Optimizer and loss function\n",
    "optimizer = optim.Adam(model.parameters(), lr=LEARNING_RATE)\n",
    "triplet_loss = TripletMarginLoss(margin=MARGIN, p=NORM)"
   ]
  },
  {
   "cell_type": "code",
   "execution_count": null,
   "metadata": {},
   "outputs": [],
   "source": [
    "# Run training\n",
    "trainer = ModelTrainer(model, audio_dataloader, validation_dataloader, device, triplet_loss, optimizer, logger, MODEL, validation_rate=VALIDATION_RATE)\n",
    "trainer.train_model(EPOCHS)"
   ]
  }
 ],
 "metadata": {
  "kernelspec": {
   "display_name": ".venv",
   "language": "python",
   "name": "python3"
  },
  "language_info": {
   "codemirror_mode": {
    "name": "ipython",
    "version": 3
   },
   "file_extension": ".py",
   "mimetype": "text/x-python",
   "name": "python",
   "nbconvert_exporter": "python",
   "pygments_lexer": "ipython3",
   "version": "3.10.12"
  }
 },
 "nbformat": 4,
 "nbformat_minor": 2
}
