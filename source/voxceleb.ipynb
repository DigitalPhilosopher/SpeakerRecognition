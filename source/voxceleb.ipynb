{
 "cells": [
  {
   "cell_type": "code",
   "execution_count": 20,
   "metadata": {},
   "outputs": [],
   "source": [
    "from utils import load_deepfake_dataset\n",
    "from dataloader.Loader import Loader\n",
    "import os\n",
    "import pandas as pd\n",
    "\n",
    "class VoxCelebLoader(Loader):\n",
    "    def read_data(self, directory):\n",
    "        base = f\"{os.getcwd()}/../data/VoxCeleb\"\n",
    "        data_list = []\n",
    "        for set in directory:\n",
    "            split = set['split']\n",
    "\n",
    "            wav_dir = f\"{base}/{set['name']}/{set['split']}/wav\"\n",
    "            aac_dir = f\"{base}/{set['name']}/{set['split']}/aac\"\n",
    "            if os.path.exists(wav_dir):\n",
    "                dir = wav_dir\n",
    "            elif os.path.exists(aac_dir):\n",
    "                dir = aac_dir\n",
    "\n",
    "            for root, dirs, files in os.walk(dir):\n",
    "                for file in files:\n",
    "                    if not file.endswith(\".wav\") and not file.endswith(\".m4a\"):\n",
    "                        continue\n",
    "                    utterance = os.path.splitext(\n",
    "                        os.path.basename(os.path.join(root, file)))[0]\n",
    "                    id = os.path.join(root, file).split(\"/\")[-3]\n",
    "                    speaker_id = int(id[2:])\n",
    "                    data_list.append({\n",
    "                        'filename': os.path.normpath(os.path.join(root, file)),\n",
    "                        'utterance': utterance,\n",
    "                        'speaker': speaker_id,\n",
    "                        'method_type': 'bonafide',\n",
    "                        'method_name': 'bonafide',\n",
    "                        'vocoder': 'bonafide',\n",
    "                        'is_genuine': 1\n",
    "                    })\n",
    "        self.data_list = pd.DataFrame(data_list, columns=[\n",
    "            'filename', 'utterance', 'speaker', 'method_type', 'method_name', 'vocoder', 'is_genuine',])\n",
    "\n",
    "def create_csv(name, split):\n",
    "    ds = [{\"name\": name, \"split\": split}]\n",
    "    loader = VoxCelebLoader(ds, lambda x: x)\n",
    "    loader.data_list.to_csv(f\"../data/VoxCeleb/{name}/{split}/metadata.csv\", index=False)"
   ]
  },
  {
   "cell_type": "code",
   "execution_count": 21,
   "metadata": {},
   "outputs": [],
   "source": [
    "create_csv(\"VoxCeleb1\", \"test\")"
   ]
  },
  {
   "cell_type": "code",
   "execution_count": 22,
   "metadata": {},
   "outputs": [],
   "source": [
    "create_csv(\"VoxCeleb2\", \"test\")"
   ]
  },
  {
   "cell_type": "code",
   "execution_count": 24,
   "metadata": {},
   "outputs": [],
   "source": [
    "create_csv(\"VoxCeleb1\", \"dev\")"
   ]
  },
  {
   "cell_type": "code",
   "execution_count": 23,
   "metadata": {},
   "outputs": [],
   "source": [
    "create_csv(\"VoxCeleb2\", \"dev\")"
   ]
  },
  {
   "cell_type": "code",
   "execution_count": 2,
   "metadata": {},
   "outputs": [],
   "source": [
    "import pandas as pd\n",
    "\n",
    "def rep(file_path):\n",
    "    # Step 1: Read the CSV\n",
    "    data = pd.read_csv(file_path)\n",
    "\n",
    "    # Step 2: Create function to construct the new utterance id\n",
    "    def construct_utterance_id(filename):\n",
    "        parts = filename.split('/')\n",
    "        return f\"{parts[-3]}_{parts[-2]}_{parts[-1].split('.')[0]}\"\n",
    "\n",
    "    # Step 3: Apply function to filename and save to utterance\n",
    "    data['utterance'] = data['filename'].apply(construct_utterance_id)\n",
    "\n",
    "    data.head()\n",
    "    # Step 4: Save the file\n",
    "    data.to_csv(file_path, index=False)\n",
    "\n",
    "rep('../data/VoxCeleb/VoxCeleb1/dev/metadata.csv')\n",
    "rep('../data/VoxCeleb/VoxCeleb1/test/metadata.csv')\n",
    "rep('../data/VoxCeleb/VoxCeleb2/dev/metadata.csv')\n",
    "rep('../data/VoxCeleb/VoxCeleb2/test/metadata.csv')"
   ]
  }
 ],
 "metadata": {
  "kernelspec": {
   "display_name": ".venv",
   "language": "python",
   "name": "python3"
  },
  "language_info": {
   "codemirror_mode": {
    "name": "ipython",
    "version": 3
   },
   "file_extension": ".py",
   "mimetype": "text/x-python",
   "name": "python",
   "nbconvert_exporter": "python",
   "pygments_lexer": "ipython3",
   "version": "3.10.12"
  }
 },
 "nbformat": 4,
 "nbformat_minor": 2
}
