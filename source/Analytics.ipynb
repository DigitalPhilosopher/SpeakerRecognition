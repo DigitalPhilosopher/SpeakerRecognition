{
 "cells": [
  {
   "cell_type": "code",
   "execution_count": null,
   "metadata": {},
   "outputs": [],
   "source": [
    "import torch\n",
    "from frontend import MFCCTransform\n",
    "from utils import get_device\n",
    "from speechbrain.lobes.models.ECAPA_TDNN import ECAPA_TDNN\n",
    "from models import WavLM_Base_ECAPA_TDNN\n",
    "\n",
    "MFCCS = 80\n",
    "EMBEDDING_SIZE = 192\n",
    "MODEL = \"WavLM-Base-joint_ECAPA-TDNN_Random-Triplet-Mining_Genuine\"\n",
    "\n",
    "device = get_device()\n",
    "#model = ECAPA_TDNN(input_size=MFCCS, lin_neurons=EMBEDDING_SIZE, device=device)\n",
    "frozen = False\n",
    "model = WavLM_Base_ECAPA_TDNN(frozen=frozen, device=device)\n",
    "model.to(device)\n",
    "\n",
    "state = torch.load(\n",
    "    f'../models/{MODEL}_best_model_state.pth')\n",
    "model.load_state_dict(state)\n",
    "model.eval()"
   ]
  },
  {
   "cell_type": "code",
   "execution_count": null,
   "metadata": {},
   "outputs": [],
   "source": [
    "from utils import load_deepfake_dataset\n",
    "from torch.utils.data import DataLoader\n",
    "from dataloader import ValidationDataset, collate_valid_fn\n",
    "\n",
    "SAMPLE_RATE = 16000\n",
    "DOWNSAMPLING_VALID = -1\n",
    "BATCH_SIZE = 4\n",
    "\n",
    "train_labels, dev_labels, test_labels = load_deepfake_dataset()\n",
    "\n",
    "#frontend = MFCCTransform(\n",
    "#    number_output_parameters=MFCCS, sample_rate=SAMPLE_RATE)\n",
    "frontend = lambda x: x\n",
    "\n",
    "validation_dataset = ValidationDataset(\n",
    "    dev_labels, frontend=frontend, downsampling=DOWNSAMPLING_VALID)\n",
    "validation_dataset.data_list = validation_dataset.data_list[validation_dataset.data_list[\"is_genuine\"] == 1]\n",
    "validation_dataloader = DataLoader(validation_dataset, batch_size=BATCH_SIZE, shuffle=True,\n",
    "                                    drop_last=True, num_workers=4, pin_memory=True, collate_fn=collate_valid_fn)"
   ]
  },
  {
   "cell_type": "code",
   "execution_count": null,
   "metadata": {},
   "outputs": [],
   "source": [
    "from utils import ModelValidator\n",
    "\n",
    "validator = ModelValidator(validation_dataloader, device)"
   ]
  },
  {
   "cell_type": "code",
   "execution_count": null,
   "metadata": {},
   "outputs": [],
   "source": [
    "validator.validate_model(model, deepfake_eer=False, mlflow_logging=False)"
   ]
  }
 ],
 "metadata": {
  "kernelspec": {
   "display_name": ".venv",
   "language": "python",
   "name": "python3"
  },
  "language_info": {
   "codemirror_mode": {
    "name": "ipython",
    "version": 3
   },
   "file_extension": ".py",
   "mimetype": "text/x-python",
   "name": "python",
   "nbconvert_exporter": "python",
   "pygments_lexer": "ipython3",
   "version": "3.10.12"
  }
 },
 "nbformat": 4,
 "nbformat_minor": 2
}
