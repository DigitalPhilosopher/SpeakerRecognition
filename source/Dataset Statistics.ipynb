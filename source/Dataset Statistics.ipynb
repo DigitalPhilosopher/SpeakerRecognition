{
 "cells": [
  {
   "cell_type": "code",
   "execution_count": 1,
   "metadata": {},
   "outputs": [
    {
     "name": "stdout",
     "output_type": "stream",
     "text": [
      "!!!!!!Unknown: labels_BSI_train_genuine.txt\n",
      "number of deepfakes: 688432\n",
      "number of genuine: 8883\n",
      "!!!!!!Unknown: labels_BSI_valid_genuine.txt\n",
      "number of deepfakes: 335098\n",
      "number of genuine: 987\n",
      "!!!!!!Unknown: labels_BSI_test_genuine.txt\n",
      "number of deepfakes: 223015\n",
      "number of genuine: 3284\n"
     ]
    }
   ],
   "source": [
    "from utils import load_deepfake_dataset\n",
    "from extraction_utils.data_utils import read_label_file\n",
    "from typing import List, Tuple\n",
    "import pandas as pd\n",
    "import os\n",
    "\n",
    "def read(train_labels):\n",
    "    train_list: List[Tuple[str, int]] = read_label_file(train_labels)\n",
    "    train_list = pd.DataFrame(train_list, columns=[\"filename\", \"is_genuine\", \"method_type\", \"method_name\", \"vocoder\"])\n",
    "    train_list[\"utterance\"] = train_list[\"filename\"].apply(lambda x: os.path.basename(x).split(\".\")[0])\n",
    "    train_list[\"speaker\"] = train_list[\"utterance\"].apply(lambda x: x.split(\"_\")[0])\n",
    "    return train_list\n",
    "\n",
    "\n",
    "train_labels, dev_labels, test_labels = load_deepfake_dataset()\n",
    "\n",
    "TRAIN_LIST = read(train_labels)\n",
    "DEV_LIST = read(dev_labels)\n",
    "TEST_LIST = read(test_labels)"
   ]
  },
  {
   "cell_type": "code",
   "execution_count": 2,
   "metadata": {},
   "outputs": [],
   "source": [
    "# Function to get speaker statistics\n",
    "def get_speaker_stats(train_speakers, other_speakers):\n",
    "    unique_speakers = len(other_speakers)\n",
    "    speakers_in_train = pd.Series(other_speakers).isin(train_speakers).sum()\n",
    "    speakers_not_in_train = unique_speakers - speakers_in_train\n",
    "    # Assuming train_speakers and other_speakers are defined as pandas Series\n",
    "    speakers_in_train_not_in_other = len(pd.Series(train_speakers)[~pd.Series(train_speakers).isin(other_speakers)])\n",
    "    return unique_speakers, speakers_not_in_train, speakers_in_train, speakers_in_train_not_in_other\n",
    "\n",
    "train_list = TRAIN_LIST[TRAIN_LIST[\"is_genuine\"] == 1]\n",
    "dev_list = DEV_LIST[DEV_LIST[\"is_genuine\"] == 1]\n",
    "test_list = TEST_LIST[TEST_LIST[\"is_genuine\"] == 1]\n",
    "\n",
    "# Extract unique speakers from each list\n",
    "train_speakers = train_list[\"speaker\"].unique()\n",
    "dev_speakers = dev_list[\"speaker\"].unique()\n",
    "test_speakers = test_list[\"speaker\"].unique()\n",
    "\n",
    "# Get statistics for dev_list and test_list compared to train_list\n",
    "dev_stats = get_speaker_stats(train_speakers, dev_speakers)\n",
    "test_stats = get_speaker_stats(train_speakers, test_speakers)"
   ]
  },
  {
   "cell_type": "code",
   "execution_count": 3,
   "metadata": {},
   "outputs": [
    {
     "name": "stdout",
     "output_type": "stream",
     "text": [
      "Train List Statistics:\n",
      " - Number of unique speakers: 658\n",
      "\n",
      "Dev List Statistics:\n",
      " - Number of unique speakers: 524\n",
      " - Number of speakers not in train_list: 0\n",
      " - Number of speakers in train_list: 524\n",
      " - Number of speakers in train but not in dev: 134\n",
      "\n",
      "Test List Statistics:\n",
      " - Number of unique speakers: 219\n",
      " - Number of speakers not in train_list: 219\n",
      " - Number of speakers in train_list: 0\n",
      " - Number of speakers in train but not in test: 658\n"
     ]
    }
   ],
   "source": [
    "# Display the results\n",
    "print(\"Train List Statistics:\")\n",
    "print(f\" - Number of unique speakers: {len(train_speakers)}\")\n",
    "\n",
    "print(\"\\nDev List Statistics:\")\n",
    "print(f\" - Number of unique speakers: {dev_stats[0]}\")\n",
    "print(f\" - Number of speakers not in train_list: {dev_stats[1]}\")\n",
    "print(f\" - Number of speakers in train_list: {dev_stats[2]}\")\n",
    "print(f\" - Number of speakers in train but not in dev: {dev_stats[3]}\")\n",
    "\n",
    "print(\"\\nTest List Statistics:\")\n",
    "print(f\" - Number of unique speakers: {test_stats[0]}\")\n",
    "print(f\" - Number of speakers not in train_list: {test_stats[1]}\")\n",
    "print(f\" - Number of speakers in train_list: {test_stats[2]}\")\n",
    "print(f\" - Number of speakers in train but not in test: {test_stats[3]}\")"
   ]
  },
  {
   "cell_type": "code",
   "execution_count": 4,
   "metadata": {},
   "outputs": [],
   "source": [
    "# Extract unique speakers from each list\n",
    "genuine_list = TRAIN_LIST[TRAIN_LIST[\"is_genuine\"] == 1]\n",
    "genuine_speakers = genuine_list[\"speaker\"].unique()\n",
    "\n",
    "deepfake_list = TRAIN_LIST[TRAIN_LIST[\"is_genuine\"] == 0]\n",
    "deepfake_speakers = deepfake_list[\"speaker\"].unique()\n",
    "\n",
    "# Get statistics for dev_list and test_list compared to train_list\n",
    "deepfake_stats = get_speaker_stats(genuine_speakers, deepfake_speakers)"
   ]
  },
  {
   "cell_type": "code",
   "execution_count": 5,
   "metadata": {},
   "outputs": [
    {
     "name": "stdout",
     "output_type": "stream",
     "text": [
      "\\Deepfake Statistics:\n",
      " - Number of unique genuine speakers: 658\n",
      " - Number of unique deepfake speakers: 877\n",
      " - Number of deepfake speakers not in genuine_list: 219\n",
      " - Number of genuin speakers not in deepfake speakers: 658\n"
     ]
    }
   ],
   "source": [
    "print(\"\\Deepfake Statistics:\")\n",
    "print(f\" - Number of unique genuine speakers: {len(genuine_speakers)}\")\n",
    "print(f\" - Number of unique deepfake speakers: {len(deepfake_speakers)}\")\n",
    "print(f\" - Number of deepfake speakers not in genuine_list: {test_stats[1]}\")\n",
    "print(f\" - Number of genuin speakers not in deepfake speakers: {test_stats[3]}\")"
   ]
  }
 ],
 "metadata": {
  "kernelspec": {
   "display_name": ".venv",
   "language": "python",
   "name": "python3"
  },
  "language_info": {
   "codemirror_mode": {
    "name": "ipython",
    "version": 3
   },
   "file_extension": ".py",
   "mimetype": "text/x-python",
   "name": "python",
   "nbconvert_exporter": "python",
   "pygments_lexer": "ipython3",
   "version": "3.10.12"
  }
 },
 "nbformat": 4,
 "nbformat_minor": 2
}
