{
 "cells": [
  {
   "cell_type": "code",
   "execution_count": null,
   "metadata": {},
   "outputs": [],
   "source": [
    "import pandas as pd\n",
    "\n",
    "data = pd.read_csv(\"../data/analytics.csv\")\n",
    "data.head()"
   ]
  },
  {
   "cell_type": "code",
   "execution_count": null,
   "metadata": {},
   "outputs": [],
   "source": [
    "data['Front-End'] = data['Model'].apply(lambda x: 'MFCC' if x.startswith('MFCC') else ('WavLM-Base/Frozen' if x.startswith('WavLM-Base-frozen') else ('WavLM-Base/Joint' if x.startswith('WavLM-Base-joint') else ('WavLM-Large/Joint' if x.startswith('WavLM-Large-joint') else 'WavLM-Large/Frozen'))))\n",
    "data['Triplet Mining'] = data['Model'].apply(lambda x: 'Genuine' if x.endswith('Genuine') else 'Deepfake')\n",
    "data['Dataset'] = data['Dataset'].apply(lambda x: x.split(\" \")[0])\n",
    "data = data.drop(['Deepfake Detection Threshold', 'Deepfake Detection True Negatives', 'Deepfake Detection True Positives', 'Deepfake Detection False Negatives', 'Deepfake Detection False Positives'], axis=1)\n",
    "data = data.drop(['Speaker Verification Threshold', 'Speaker Verification True Negatives', 'Speaker Verification True Positives', 'Speaker Verification False Negatives', 'Speaker Verification False Positives'], axis=1)\n",
    "data = data.sort_values(by=\"Model\")\n",
    "data = data.drop(['Model'], axis=1)\n",
    "cols = ['Triplet Mining'] + [col for col in data if col != 'Triplet Mining']\n",
    "data = data[cols]\n",
    "cols = ['Front-End'] + [col for col in data if col != 'Front-End']\n",
    "data = data[cols]\n",
    "asv = data.drop(['Deepfake Detection EER', 'Deepfake Detection minDCF'], axis=1)\n",
    "dfd = data.drop(['Speaker Verification EER', 'Speaker Verification minDCF'], axis=1)"
   ]
  },
  {
   "cell_type": "code",
   "execution_count": null,
   "metadata": {},
   "outputs": [],
   "source": [
    "print(asv.to_markdown(index=False))\n"
   ]
  },
  {
   "cell_type": "code",
   "execution_count": null,
   "metadata": {},
   "outputs": [],
   "source": [
    "print(dfd.to_markdown(index=False))"
   ]
  }
 ],
 "metadata": {
  "kernelspec": {
   "display_name": ".venv",
   "language": "python",
   "name": "python3"
  },
  "language_info": {
   "codemirror_mode": {
    "name": "ipython",
    "version": 3
   },
   "file_extension": ".py",
   "mimetype": "text/x-python",
   "name": "python",
   "nbconvert_exporter": "python",
   "pygments_lexer": "ipython3",
   "version": "3.10.12"
  }
 },
 "nbformat": 4,
 "nbformat_minor": 2
}
