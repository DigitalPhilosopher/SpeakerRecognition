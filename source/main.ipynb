{
 "cells": [
  {
   "cell_type": "code",
   "execution_count": null,
   "metadata": {},
   "outputs": [],
   "source": [
    "import os\n",
    "os.chdir(\"../\")"
   ]
  },
  {
   "cell_type": "code",
   "execution_count": null,
   "metadata": {},
   "outputs": [],
   "source": [
    "import torch\n",
    "from torch.utils.data import DataLoader\n",
    "from torch.nn import TripletMarginLoss\n",
    "import torch.optim as optim\n",
    "from source.DataLoader import AudioDataset, collate_fn\n",
    "from source.Model import SpeakerClassifier\n",
    "from source.Frontend import MFCCTransform\n",
    "\n",
    "\n",
    "# Check if CUDA is available\n",
    "if torch.cuda.is_available():\n",
    "    print(\"CUDA is available! Training on GPU...\")\n",
    "    device = torch.device(\"cuda\")\n",
    "else:\n",
    "    print(\"CUDA is not available. Training on CPU...\")\n",
    "    device = torch.device(\"cpu\")"
   ]
  },
  {
   "cell_type": "code",
   "execution_count": null,
   "metadata": {},
   "outputs": [],
   "source": [
    "# Set root directory to your dataset folder\n",
    "root_directory = 'data/'\n",
    "\n",
    "audio_dataset = AudioDataset(root_directory, frontend=MFCCTransform)\n",
    "audio_dataloader = DataLoader(audio_dataset, batch_size=16, shuffle=True, collate_fn=collate_fn)\n",
    "model = SpeakerClassifier(5, input_size=13, device=device)\n",
    "model.to(device)\n",
    "\n",
    "# Optimizer and loss function\n",
    "optimizer = optim.Adam(model.parameters(), lr=0.001)\n",
    "triplet_loss = TripletMarginLoss(margin=1.0, p=2)\n",
    "\n",
    "def train_model(epochs, dataloader, model, loss_function, optimizer, device):\n",
    "    model.train()\n",
    "    for epoch in range(epochs):\n",
    "        for anchors, positives, negatives in dataloader:\n",
    "            anchors = anchors.to(device)\n",
    "            positives = positives.to(device)\n",
    "            negatives = negatives.to(device)\n",
    "\n",
    "            optimizer.zero_grad()\n",
    "            anchor_outputs = model(anchors)\n",
    "            positive_outputs = model(positives)\n",
    "            negative_outputs = model(negatives)\n",
    "            \n",
    "            loss = loss_function(anchor_outputs, positive_outputs, negative_outputs)\n",
    "            loss.backward()\n",
    "            optimizer.step()\n",
    "\n",
    "            print(f'Epoch {epoch+1}, Loss: {loss.item()}')\n",
    "\n",
    "# Run training\n",
    "train_model(25, audio_dataloader, model, triplet_loss, optimizer, device)"
   ]
  },
  {
   "cell_type": "code",
   "execution_count": null,
   "metadata": {},
   "outputs": [],
   "source": [
    "torch.cuda.reset_peak_memory_stats()\n",
    "torch.cuda.empty_cache()\n",
    "torch.cuda.reset_max_memory_allocated()  # Resets the starting point for tracking"
   ]
  }
 ],
 "metadata": {
  "kernelspec": {
   "display_name": ".venv",
   "language": "python",
   "name": "python3"
  },
  "language_info": {
   "codemirror_mode": {
    "name": "ipython",
    "version": 3
   },
   "file_extension": ".py",
   "mimetype": "text/x-python",
   "name": "python",
   "nbconvert_exporter": "python",
   "pygments_lexer": "ipython3",
   "version": "3.10.12"
  }
 },
 "nbformat": 4,
 "nbformat_minor": 2
}
