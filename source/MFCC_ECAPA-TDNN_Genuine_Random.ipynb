{
 "cells": [
  {
   "cell_type": "code",
   "execution_count": null,
   "metadata": {},
   "outputs": [],
   "source": [
    "MODEL_NAME = \"MFCC_ECAPA-TDNN_Genuine_Random\"\n",
    "\n",
    "import os\n",
    "os.chdir(\"../\")\n",
    "\n",
    "import warnings\n",
    "warnings.filterwarnings(\"ignore\")\n",
    "\n",
    "import logging\n",
    "logging.basicConfig(filename=MODEL_NAME + '.log', \n",
    "                    level=logging.INFO, \n",
    "                    format='%(asctime)s - %(message)s')\n",
    "logger = logging.getLogger()"
   ]
  },
  {
   "cell_type": "code",
   "execution_count": null,
   "metadata": {},
   "outputs": [],
   "source": [
    "import torch\n",
    "from torch.utils.data import DataLoader\n",
    "from torch.nn import TripletMarginLoss\n",
    "import torch.optim as optim\n",
    "from source.dataloader import RandomTripletLossDataset, collate_triplet_fn\n",
    "from source.Model import SpeakerClassifier\n",
    "from source.Frontend import MFCCTransform\n",
    "from source.extraction_utils.get_label_files import get_label_files\n",
    "from tqdm.notebook import tqdm\n",
    "import time\n",
    "import mlflow\n",
    "import mlflow.pytorch\n",
    "\n",
    "\n",
    "# Check if CUDA is available\n",
    "if torch.cuda.is_available():\n",
    "    logger.info(\"CUDA is available! Training on GPU...\")\n",
    "    device = torch.device(\"cuda\")\n",
    "else:\n",
    "    logger.info(\"CUDA is not available. Training on CPU...\")\n",
    "    device = torch.device(\"cpu\")\n",
    "\n",
    "def train_model(epochs, dataloader, model, loss_function, optimizer, device):\n",
    "    with mlflow.start_run(run_name=MODEL_NAME):\n",
    "        mlflow.log_param(\"epochs\", epochs)\n",
    "        mlflow.log_param(\"batch_size\", dataloader.batch_size)\n",
    "        mlflow.log_param(\"model\", model.__class__.__name__)\n",
    "        mlflow.log_param(\"loss_function\", loss_function.__class__.__name__)\n",
    "        mlflow.log_param(\"optimizer\", optimizer.__class__.__name__)\n",
    "        model.train()\n",
    "        total_start_time = time.time()  # Start timing the whole training process\n",
    "        for epoch in range(epochs):\n",
    "            epoch_start_time = time.time()  # Start timing the epoch\n",
    "            running_loss = 0.0\n",
    "            progress_bar = tqdm(dataloader, desc=f\"Epoch {epoch+1}/{epochs}\", leave=False)\n",
    "            for anchors, positives, negatives in progress_bar:\n",
    "                batch_start_time = time.time()  # Start timing the batch\n",
    "                \n",
    "                anchors = anchors.to(device)\n",
    "                positives = positives.to(device)\n",
    "                negatives = negatives.to(device)\n",
    "\n",
    "                optimizer.zero_grad()\n",
    "                \n",
    "                # Time the forward passes\n",
    "                forward_start_time = time.time()\n",
    "                anchor_outputs = model(anchors)\n",
    "                positive_outputs = model(positives)\n",
    "                negative_outputs = model(negatives)\n",
    "                forward_end_time = time.time()\n",
    "                \n",
    "                loss = loss_function(anchor_outputs, positive_outputs, negative_outputs)\n",
    "                loss.backward()\n",
    "                optimizer.step()\n",
    "                \n",
    "                running_loss += loss.item()\n",
    "                progress_bar.set_postfix(loss=loss.item())\n",
    "                \n",
    "                batch_end_time = time.time()\n",
    "                logger.info(f\"Batch processed in {batch_end_time - batch_start_time:.4f} seconds.\")\n",
    "                logger.info(f\"Forward pass took {forward_end_time - forward_start_time:.4f} seconds.\")\n",
    "            \n",
    "            avg_loss = running_loss / len(dataloader)\n",
    "            epoch_end_time = time.time()\n",
    "            mlflow.log_metric(\"avg_loss\", avg_loss, step=epoch)\n",
    "            mlflow.log_metric(\"epoch_time\", epoch_end_time - epoch_start_time, step=epoch)\n",
    "            logger.info(f\"Epoch {epoch+1} completed in {epoch_end_time - epoch_start_time:.4f} seconds. Average Loss: {avg_loss:.4f}\")\n",
    "            print(f'Epoch {epoch+1}, Average Loss: {avg_loss:.4f}', end='\\r')\n",
    "        total_end_time = time.time()\n",
    "        mlflow.log_metric(\"total_training_time\", total_end_time - total_start_time)\n",
    "        logger.info(f\"Training completed in {total_end_time - total_start_time:.4f} seconds.\")\n",
    "        print()\n",
    "\n",
    "        # Log the model\n",
    "        mlflow.pytorch.log_model(model, \"model\")"
   ]
  },
  {
   "cell_type": "code",
   "execution_count": null,
   "metadata": {},
   "outputs": [],
   "source": [
    "labels_text_path_list_train, labels_text_path_list_dev, labels_text_path_list_test, all_datasets_used = get_label_files(\n",
    "    use_bsi_tts = False,\n",
    "    use_bsi_vocoder = False,\n",
    "    use_bsi_vc = False,\n",
    "    use_bsi_genuine = True,\n",
    "    use_bsi_ttsvctk = False,\n",
    "    use_bsi_ttslj = False,\n",
    "    use_bsi_ttsother = False,\n",
    "    use_bsi_vocoderlj = False,\n",
    "    use_wavefake = False,\n",
    "    use_LibriSeVoc = False,\n",
    "    use_lj = False,\n",
    "    use_asv2019 = False,\n",
    ")"
   ]
  },
  {
   "cell_type": "code",
   "execution_count": null,
   "metadata": {},
   "outputs": [],
   "source": [
    "audio_dataset = RandomTripletLossDataset(labels_text_path_list_train, frontend=MFCCTransform)\n",
    "audio_dataloader = DataLoader(audio_dataset, batch_size=32, shuffle=True, collate_fn=collate_triplet_fn)\n",
    "model = SpeakerClassifier(input_size=13, device=device)\n",
    "model.to(device)\n",
    "\n",
    "# Optimizer and loss function\n",
    "optimizer = optim.Adam(model.parameters(), lr=0.001)\n",
    "triplet_loss = TripletMarginLoss(margin=1.0, p=2)"
   ]
  },
  {
   "cell_type": "code",
   "execution_count": null,
   "metadata": {},
   "outputs": [],
   "source": [
    "# Run training\n",
    "train_model(2, audio_dataloader, model, triplet_loss, optimizer, device)"
   ]
  },
  {
   "cell_type": "code",
   "execution_count": null,
   "metadata": {},
   "outputs": [],
   "source": [
    "torch.cuda.reset_peak_memory_stats()\n",
    "torch.cuda.empty_cache()\n",
    "torch.cuda.reset_max_memory_allocated()  # Resets the starting point for tracking"
   ]
  }
 ],
 "metadata": {
  "kernelspec": {
   "display_name": ".venv",
   "language": "python",
   "name": "python3"
  },
  "language_info": {
   "codemirror_mode": {
    "name": "ipython",
    "version": 3
   },
   "file_extension": ".py",
   "mimetype": "text/x-python",
   "name": "python",
   "nbconvert_exporter": "python",
   "pygments_lexer": "ipython3",
   "version": "3.10.12"
  }
 },
 "nbformat": 4,
 "nbformat_minor": 2
}
