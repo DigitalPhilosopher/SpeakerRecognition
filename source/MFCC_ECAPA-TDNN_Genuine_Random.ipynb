{
 "cells": [
  {
   "cell_type": "code",
   "execution_count": null,
   "metadata": {},
   "outputs": [],
   "source": [
    "MFCCS = 13\n",
    "EMBEDDING_SIZE = 192\n",
    "\n",
    "MODEL = \"MFCC_ECAPA-TDNN_Genuine_Random\"\n",
    "\n",
    "LEARNING_RATE = 0.001\n",
    "MARGIN = 1\n",
    "NORM = 2\n",
    "\n",
    "BATCH_SIZE = 16\n",
    "EPOCHS = 2"
   ]
  },
  {
   "cell_type": "code",
   "execution_count": null,
   "metadata": {},
   "outputs": [],
   "source": [
    "# Handle warnings\n",
    "import warnings\n",
    "warnings.filterwarnings(\"ignore\")\n",
    "\n",
    "# Logging to log file\n",
    "import logging\n",
    "logging.basicConfig(filename=f'../logs/{MODEL}.log',\n",
    "                    level=logging.INFO,\n",
    "                    format='%(asctime)s - %(message)s')\n",
    "logger = logging.getLogger()\n",
    "\n",
    "# MLFlow configuration\n",
    "import mlflow\n",
    "mlflow.set_tracking_uri(\"../mlruns\")\n",
    "logging.getLogger('mlflow.utils.requirements_utils').setLevel(logging.ERROR)\n",
    "\n",
    "# Get device\n",
    "from utils import get_device, load_genuine_dataset, train_model_random_loss\n",
    "device = get_device(logger)\n",
    "\n",
    "# Imports\n",
    "import torch.optim as optim\n",
    "from torch.nn import TripletMarginLoss\n",
    "from torch.utils.data import DataLoader\n",
    "from dataloader import RandomTripletLossDataset, collate_triplet_fn\n",
    "from frontend import MFCCTransform\n",
    "from speechbrain.lobes.models.ECAPA_TDNN import ECAPA_TDNN"
   ]
  },
  {
   "cell_type": "code",
   "execution_count": null,
   "metadata": {},
   "outputs": [],
   "source": [
    "train_labels, dev_labels, test_labels = load_genuine_dataset()"
   ]
  },
  {
   "cell_type": "code",
   "execution_count": null,
   "metadata": {},
   "outputs": [],
   "source": [
    "audio_dataset = RandomTripletLossDataset(train_labels, frontend=MFCCTransform, logger=logger)\n",
    "audio_dataloader = DataLoader(audio_dataset, batch_size=BATCH_SIZE, shuffle=True, collate_fn=collate_triplet_fn)\n",
    "model = ECAPA_TDNN(input_size=MFCCS, lin_neurons=EMBEDDING_SIZE, device=device)\n",
    "model.to(device)\n",
    "\n",
    "# Optimizer and loss function\n",
    "optimizer = optim.Adam(model.parameters(), lr=LEARNING_RATE)\n",
    "triplet_loss = TripletMarginLoss(margin=MARGIN, p=NORM)"
   ]
  },
  {
   "cell_type": "code",
   "execution_count": null,
   "metadata": {},
   "outputs": [],
   "source": [
    "# Run training\n",
    "train_model_random_loss(EPOCHS, audio_dataloader, model, triplet_loss, optimizer, device, MODEL, logger)"
   ]
  }
 ],
 "metadata": {
  "kernelspec": {
   "display_name": ".venv",
   "language": "python",
   "name": "python3"
  },
  "language_info": {
   "codemirror_mode": {
    "name": "ipython",
    "version": 3
   },
   "file_extension": ".py",
   "mimetype": "text/x-python",
   "name": "python",
   "nbconvert_exporter": "python",
   "pygments_lexer": "ipython3",
   "version": "3.10.12"
  }
 },
 "nbformat": 4,
 "nbformat_minor": 2
}
