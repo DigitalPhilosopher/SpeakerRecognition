{
 "cells": [
  {
   "cell_type": "code",
   "execution_count": 1,
   "metadata": {},
   "outputs": [],
   "source": [
    "MFCCS = 13\n",
    "\n",
    "MODEL = \"MFCC_ECAPA-TDNN_Genuine_Random\"\n",
    "\n",
    "LEARNING_RATE = 0.001\n",
    "MARGIN = 1\n",
    "NORM = 2\n",
    "\n",
    "BATCH_SIZE = 16\n",
    "EPOCHS = 2"
   ]
  },
  {
   "cell_type": "code",
   "execution_count": 2,
   "metadata": {},
   "outputs": [],
   "source": [
    "import utils\n",
    "\n",
    "utils.initialize_environment(MODEL)\n",
    "device = utils.get_device()"
   ]
  },
  {
   "cell_type": "code",
   "execution_count": 3,
   "metadata": {},
   "outputs": [],
   "source": [
    "import torch.optim as optim\n",
    "from torch.nn import TripletMarginLoss\n",
    "from torch.utils.data import DataLoader\n",
    "from dataloader import RandomTripletLossDataset, collate_triplet_fn\n",
    "from frontend import MFCCTransform\n",
    "from Model import SpeakerClassifier"
   ]
  },
  {
   "cell_type": "code",
   "execution_count": 4,
   "metadata": {},
   "outputs": [],
   "source": [
    "train_labels, dev_labels, test_labels = utils.load_genuine_dataset()"
   ]
  },
  {
   "cell_type": "code",
   "execution_count": 5,
   "metadata": {},
   "outputs": [
    {
     "name": "stdout",
     "output_type": "stream",
     "text": [
      "!!!!!!Unknown: labels_BSI_train_genuine.txt\n",
      "number of deepfakes: 0\n",
      "number of genuine: 8883\n"
     ]
    }
   ],
   "source": [
    "audio_dataset = RandomTripletLossDataset(train_labels, frontend=MFCCTransform)\n",
    "audio_dataloader = DataLoader(audio_dataset, batch_size=BATCH_SIZE, shuffle=True, collate_fn=collate_triplet_fn)\n",
    "model = SpeakerClassifier(input_size=MFCCS, device=device)\n",
    "model.to(device)\n",
    "\n",
    "# Optimizer and loss function\n",
    "optimizer = optim.Adam(model.parameters(), lr=LEARNING_RATE)\n",
    "triplet_loss = TripletMarginLoss(margin=MARGIN, p=NORM)"
   ]
  },
  {
   "cell_type": "code",
   "execution_count": 6,
   "metadata": {},
   "outputs": [
    {
     "data": {
      "application/vnd.jupyter.widget-view+json": {
       "model_id": "ab12241180994acb940398176f52c4f6",
       "version_major": 2,
       "version_minor": 0
      },
      "text/plain": [
       "Epoch 1/2:   0%|          | 0/2 [00:00<?, ?it/s]"
      ]
     },
     "metadata": {},
     "output_type": "display_data"
    },
    {
     "name": "stderr",
     "output_type": "stream",
     "text": [
      "2024/05/19 14:38:36 WARNING mlflow.utils.requirements_utils: Found torch version (2.3.0+cu121) contains a local version label (+cu121). MLflow logged a pip requirement for this package as 'torch==2.3.0' without the local version label to make it installable from PyPI. To specify pip requirements containing local version labels, please use `conda_env` or `pip_requirements`.\n",
      "2024/05/19 14:38:39 WARNING mlflow.utils.requirements_utils: Found torchvision version (0.18.0+cu121) contains a local version label (+cu121). MLflow logged a pip requirement for this package as 'torchvision==0.18.0' without the local version label to make it installable from PyPI. To specify pip requirements containing local version labels, please use `conda_env` or `pip_requirements`.\n"
     ]
    },
    {
     "data": {
      "application/vnd.jupyter.widget-view+json": {
       "model_id": "ce1002d9c8864a1fbc863decbe33abe2",
       "version_major": 2,
       "version_minor": 0
      },
      "text/plain": [
       "Epoch 2/2:   0%|          | 0/2 [00:00<?, ?it/s]"
      ]
     },
     "metadata": {},
     "output_type": "display_data"
    },
    {
     "name": "stderr",
     "output_type": "stream",
     "text": [
      "2024/05/19 14:38:42 WARNING mlflow.utils.requirements_utils: Found torch version (2.3.0+cu121) contains a local version label (+cu121). MLflow logged a pip requirement for this package as 'torch==2.3.0' without the local version label to make it installable from PyPI. To specify pip requirements containing local version labels, please use `conda_env` or `pip_requirements`.\n",
      "2024/05/19 14:38:45 WARNING mlflow.utils.requirements_utils: Found torchvision version (0.18.0+cu121) contains a local version label (+cu121). MLflow logged a pip requirement for this package as 'torchvision==0.18.0' without the local version label to make it installable from PyPI. To specify pip requirements containing local version labels, please use `conda_env` or `pip_requirements`.\n"
     ]
    }
   ],
   "source": [
    "# Run training\n",
    "utils.train_model_random_loss(EPOCHS, audio_dataloader, model, triplet_loss, optimizer, device)"
   ]
  }
 ],
 "metadata": {
  "kernelspec": {
   "display_name": ".venv",
   "language": "python",
   "name": "python3"
  },
  "language_info": {
   "codemirror_mode": {
    "name": "ipython",
    "version": 3
   },
   "file_extension": ".py",
   "mimetype": "text/x-python",
   "name": "python",
   "nbconvert_exporter": "python",
   "pygments_lexer": "ipython3",
   "version": "3.10.12"
  }
 },
 "nbformat": 4,
 "nbformat_minor": 2
}
