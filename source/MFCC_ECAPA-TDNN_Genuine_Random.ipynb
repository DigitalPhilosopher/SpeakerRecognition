{
 "cells": [
  {
   "cell_type": "code",
   "execution_count": 1,
   "metadata": {},
   "outputs": [],
   "source": [
    "import os\n",
    "os.chdir(\"../\")\n",
    "\n",
    "import warnings\n",
    "\n",
    "warnings.filterwarnings(\"ignore\")"
   ]
  },
  {
   "cell_type": "code",
   "execution_count": 2,
   "metadata": {},
   "outputs": [
    {
     "name": "stderr",
     "output_type": "stream",
     "text": [
      "/home/patrick/speaker_recognition_light/.venv/lib/python3.10/site-packages/tqdm/auto.py:21: TqdmWarning: IProgress not found. Please update jupyter and ipywidgets. See https://ipywidgets.readthedocs.io/en/stable/user_install.html\n",
      "  from .autonotebook import tqdm as notebook_tqdm\n"
     ]
    },
    {
     "name": "stdout",
     "output_type": "stream",
     "text": [
      "CUDA is available! Training on GPU...\n"
     ]
    }
   ],
   "source": [
    "import torch\n",
    "from torch.utils.data import DataLoader\n",
    "from torch.nn import TripletMarginLoss\n",
    "import torch.optim as optim\n",
    "from source.dataloader import RandomTripletLossDataset, collate_triplet_fn\n",
    "from source.Model import SpeakerClassifier\n",
    "from source.Frontend import MFCCTransform\n",
    "from source.extraction_utils.get_label_files import get_label_files\n",
    "from tqdm import tqdm\n",
    "\n",
    "\n",
    "# Check if CUDA is available\n",
    "if torch.cuda.is_available():\n",
    "    print(\"CUDA is available! Training on GPU...\")\n",
    "    device = torch.device(\"cuda\")\n",
    "else:\n",
    "    print(\"CUDA is not available. Training on CPU...\")\n",
    "    device = torch.device(\"cpu\")\n",
    "\n",
    "def train_model(epochs, dataloader, model, loss_function, optimizer, device):\n",
    "    model.train()\n",
    "    for epoch in range(epochs):\n",
    "        running_loss = 0.0\n",
    "        progress_bar = tqdm(dataloader, desc=f\"Epoch {epoch+1}/{epochs}\")\n",
    "        for anchors, positives, negatives in progress_bar:\n",
    "            anchors = anchors.to(device)\n",
    "            positives = positives.to(device)\n",
    "            negatives = negatives.to(device)\n",
    "\n",
    "            optimizer.zero_grad()\n",
    "            anchor_outputs = model(anchors)\n",
    "            positive_outputs = model(positives)\n",
    "            negative_outputs = model(negatives)\n",
    "            \n",
    "            loss = loss_function(anchor_outputs, positive_outputs, negative_outputs)\n",
    "            loss.backward()\n",
    "            optimizer.step()\n",
    "            \n",
    "            running_loss += loss.item()\n",
    "            progress_bar.set_postfix(loss=loss.item())\n",
    "        \n",
    "        avg_loss = running_loss / len(dataloader)\n",
    "        print(f'Epoch {epoch+1}, Average Loss: {avg_loss:.4f}')"
   ]
  },
  {
   "cell_type": "code",
   "execution_count": null,
   "metadata": {},
   "outputs": [],
   "source": [
    "labels_text_path_list_train, labels_text_path_list_dev, labels_text_path_list_test, all_datasets_used = get_label_files(\n",
    "    use_bsi_tts = False,\n",
    "    use_bsi_vocoder = False,\n",
    "    use_bsi_vc = False,\n",
    "    use_bsi_genuine = True,\n",
    "    use_bsi_ttsvctk = False,\n",
    "    use_bsi_ttslj = False,\n",
    "    use_bsi_ttsother = False,\n",
    "    use_bsi_vocoderlj = False,\n",
    "    use_wavefake = False,\n",
    "    use_LibriSeVoc = False,\n",
    "    use_lj = False,\n",
    "    use_asv2019 = False,\n",
    ")"
   ]
  },
  {
   "cell_type": "code",
   "execution_count": null,
   "metadata": {},
   "outputs": [],
   "source": [
    "audio_dataset = RandomTripletLossDataset(labels_text_path_list_train, frontend=MFCCTransform)\n",
    "audio_dataloader = DataLoader(audio_dataset, batch_size=32, shuffle=True, collate_fn=collate_triplet_fn)\n",
    "model = SpeakerClassifier(input_size=13, device=device)\n",
    "model.to(device)\n",
    "\n",
    "# Optimizer and loss function\n",
    "optimizer = optim.Adam(model.parameters(), lr=0.001)\n",
    "triplet_loss = TripletMarginLoss(margin=1.0, p=2)"
   ]
  },
  {
   "cell_type": "code",
   "execution_count": null,
   "metadata": {},
   "outputs": [],
   "source": [
    "# Run training\n",
    "train_model(2, audio_dataloader, model, triplet_loss, optimizer, device)"
   ]
  },
  {
   "cell_type": "code",
   "execution_count": null,
   "metadata": {},
   "outputs": [],
   "source": [
    "torch.cuda.reset_peak_memory_stats()\n",
    "torch.cuda.empty_cache()\n",
    "torch.cuda.reset_max_memory_allocated()  # Resets the starting point for tracking"
   ]
  }
 ],
 "metadata": {
  "kernelspec": {
   "display_name": ".venv",
   "language": "python",
   "name": "python3"
  },
  "language_info": {
   "codemirror_mode": {
    "name": "ipython",
    "version": 3
   },
   "file_extension": ".py",
   "mimetype": "text/x-python",
   "name": "python",
   "nbconvert_exporter": "python",
   "pygments_lexer": "ipython3",
   "version": "3.10.12"
  }
 },
 "nbformat": 4,
 "nbformat_minor": 2
}
