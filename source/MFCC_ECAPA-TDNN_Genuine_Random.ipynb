{
 "cells": [
  {
   "cell_type": "code",
   "execution_count": null,
   "metadata": {},
   "outputs": [],
   "source": [
    "import torch.optim as optim\n",
    "from torch.nn import TripletMarginLoss\n",
    "from torch.utils.data import DataLoader\n",
    "from dataloader import RandomTripletLossDataset, collate_triplet_fn\n",
    "from Frontend import MFCCTransform\n",
    "from Model import SpeakerClassifier\n",
    "import utils"
   ]
  },
  {
   "cell_type": "code",
   "execution_count": null,
   "metadata": {},
   "outputs": [],
   "source": [
    "MFCCS = 13\n",
    "\n",
    "MODEL = \"MFCC_ECAPA-TDNN_Genuine_Random\"\n",
    "\n",
    "LEARNING_RATE = 0.001\n",
    "MARGIN = 1\n",
    "NORM = 2\n",
    "\n",
    "BATCH_SIZE = 32\n",
    "EPOCHS = 2"
   ]
  },
  {
   "cell_type": "code",
   "execution_count": null,
   "metadata": {},
   "outputs": [],
   "source": [
    "logger = utils.initialize_environment(MODEL)\n",
    "device = utils.get_device()"
   ]
  },
  {
   "cell_type": "code",
   "execution_count": null,
   "metadata": {},
   "outputs": [],
   "source": [
    "train_labels, dev_labels, test_labels = utils.load_genuine_dataset()"
   ]
  },
  {
   "cell_type": "code",
   "execution_count": null,
   "metadata": {},
   "outputs": [],
   "source": [
    "audio_dataset = RandomTripletLossDataset(train_labels, frontend=MFCCTransform)\n",
    "audio_dataloader = DataLoader(audio_dataset, batch_size=BATCH_SIZE, shuffle=True, collate_fn=collate_triplet_fn)\n",
    "model = SpeakerClassifier(input_size=MFCCS, device=device)\n",
    "model.to(device)\n",
    "\n",
    "# Optimizer and loss function\n",
    "optimizer = optim.Adam(model.parameters(), lr=LEARNING_RATE)\n",
    "triplet_loss = TripletMarginLoss(margin=MARGIN, p=NORM)"
   ]
  },
  {
   "cell_type": "code",
   "execution_count": null,
   "metadata": {},
   "outputs": [],
   "source": [
    "# Run training\n",
    "utils.train_model_random_loss(EPOCHS, audio_dataloader, model, triplet_loss, optimizer, device)"
   ]
  }
 ],
 "metadata": {
  "kernelspec": {
   "display_name": ".venv",
   "language": "python",
   "name": "python3"
  },
  "language_info": {
   "codemirror_mode": {
    "name": "ipython",
    "version": 3
   },
   "file_extension": ".py",
   "mimetype": "text/x-python",
   "name": "python",
   "nbconvert_exporter": "python",
   "pygments_lexer": "ipython3",
   "version": "3.10.12"
  }
 },
 "nbformat": 4,
 "nbformat_minor": 2
}
